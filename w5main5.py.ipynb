{
 "cells": [
  {
   "cell_type": "code",
   "execution_count": null,
   "metadata": {
    "collapsed": true
   },
   "outputs": [],
   "source": [
    "def ComputeGrade(marks):\n",
    "    if(90<=marks and marks<=100):\n",
    "        print 'grade=A'\n",
    "    elif(80<=marks and marks<90):\n",
    "        print 'grade=B'\n",
    "    elif(70<=marks and marks<80):\n",
    "        print 'grade=C'\n",
    "    elif(60<=marks and marks<70):\n",
    "        print 'grade=D'\n",
    "    elif(0<=marks and marks<60):\n",
    "        print 'grade=F'\n",
    "        \n",
    "marks=raw_input(\"enter marks\")\n",
    "ComputeGrade(80)"
   ]
  }
 ],
 "metadata": {
  "kernelspec": {
   "display_name": "Python 3",
   "language": "python",
   "name": "python3"
  },
  "language_info": {
   "codemirror_mode": {
    "name": "ipython",
    "version": 3
   },
   "file_extension": ".py",
   "mimetype": "text/x-python",
   "name": "python",
   "nbconvert_exporter": "python",
   "pygments_lexer": "ipython3",
   "version": "3.5.1"
  }
 },
 "nbformat": 4,
 "nbformat_minor": 0
}
