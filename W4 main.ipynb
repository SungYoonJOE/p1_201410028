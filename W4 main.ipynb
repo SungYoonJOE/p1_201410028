{
 "cells": [
  {
   "cell_type": "code",
   "execution_count": 1,
   "metadata": {
    "collapsed": true
   },
   "outputs": [],
   "source": [
    "import turtle\n",
    "wn=turtle.Screen()\n",
    "t1=turtle.Turtle()"
   ]
  },
  {
   "cell_type": "code",
   "execution_count": 2,
   "metadata": {
    "collapsed": true
   },
   "outputs": [],
   "source": [
    "sides=10\n",
    "size=10\n",
    "bigger=10\n",
    "angle=90\n",
    "\n",
    "def makeSwirlSquare(size,bigger,sides,angle):\n",
    "    for i in range(0,sides):\n",
    "        if(i%2):\n",
    "            size=size+bigger\n",
    "            t1.fd(size)\n",
    "            t1.right(angle)\n",
    "            \n",
    "makeSwirlSquare(10,10,50,90)"
   ]
  }
 ],
 "metadata": {
  "kernelspec": {
   "display_name": "Python 3",
   "language": "python",
   "name": "python3"
  },
  "language_info": {
   "codemirror_mode": {
    "name": "ipython",
    "version": 3
   },
   "file_extension": ".py",
   "mimetype": "text/x-python",
   "name": "python",
   "nbconvert_exporter": "python",
   "pygments_lexer": "ipython3",
   "version": "3.5.1"
  }
 },
 "nbformat": 4,
 "nbformat_minor": 0
}
